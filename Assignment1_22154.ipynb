{
  "nbformat": 4,
  "nbformat_minor": 0,
  "metadata": {
    "colab": {
      "provenance": []
    },
    "kernelspec": {
      "name": "python3",
      "display_name": "Python 3"
    },
    "language_info": {
      "name": "python"
    }
  },
  "cells": [
    {
      "cell_type": "markdown",
      "metadata": {
        "id": "e3e6e2bf"
      },
      "source": [
        "# Task\n",
        "Implement the following in Python using a corpus dataset:\n",
        "a. Plot co-occurrence word embeddings.\n",
        "b. Write a method to find the distinct words (word types) in the corpus.\n",
        "c. Write a method to construct a co-occurrence matrix for a given window size n (default 4), considering words n before and n after the center word.\n",
        "d. Construct a method to perform dimensionality reduction on the matrix to produce k-dimensional embeddings.\n",
        "e. Write a function to plot a set of 2D vectors in 2D space."
      ]
    },
    {
      "cell_type": "markdown",
      "metadata": {
        "id": "0bdede99"
      },
      "source": [
        "## Load and preprocess data\n",
        "\n",
        "### Subtask:\n",
        "Obtain a corpus dataset, such as news articles, and preprocess it by tokenizing, lowercasing, and removing punctuation and stop words.\n"
      ]
    },
    {
      "cell_type": "code",
      "metadata": {
        "colab": {
          "base_uri": "https://localhost:8080/"
        },
        "id": "smSUIUvwOx1W",
        "outputId": "f6368658-9be7-4286-d109-73418d653d19"
      },
      "source": [
        "import nltk\n",
        "from nltk.corpus import gutenberg\n",
        "from nltk.tokenize import word_tokenize\n",
        "from nltk.corpus import stopwords\n",
        "import string\n",
        "\n",
        "try:\n",
        "    nltk.data.find('corpora/gutenberg')\n",
        "except LookupError:\n",
        "    nltk.download('gutenberg')\n",
        "try:\n",
        "    nltk.data.find('tokenizers/punkt')\n",
        "except LookupError:\n",
        "    nltk.download('punkt')\n",
        "try:\n",
        "    nltk.data.find('tokenizers/punkt_tab')\n",
        "except LookupError:\n",
        "    nltk.download('punkt_tab')\n",
        "try:\n",
        "    nltk.data.find('corpora/stopwords')\n",
        "except LookupError:\n",
        "    nltk.download('stopwords')\n",
        "\n",
        "\n",
        "corpus = gutenberg.raw('austen-persuasion.txt')\n",
        "\n",
        "tokens = word_tokenize(corpus)\n",
        "\n",
        "tokens = [word.lower() for word in tokens]\n",
        "\n",
        "tokens = [word for word in tokens if word not in string.punctuation]\n",
        "\n",
        "stop_words = set(stopwords.words('english'))\n",
        "preprocessed_corpus = [word for word in tokens if word not in stop_words]\n",
        "\n",
        "print(preprocessed_corpus[:20])"
      ],
      "execution_count": 3,
      "outputs": [
        {
          "output_type": "stream",
          "name": "stderr",
          "text": [
            "[nltk_data] Downloading package punkt_tab to /root/nltk_data...\n",
            "[nltk_data]   Unzipping tokenizers/punkt_tab.zip.\n"
          ]
        },
        {
          "output_type": "stream",
          "name": "stdout",
          "text": [
            "['persuasion', 'jane', 'austen', '1818', 'chapter', '1', 'sir', 'walter', 'elliot', 'kellynch', 'hall', 'somersetshire', 'man', 'amusement', 'never', 'took', 'book', 'baronetage', 'found', 'occupation']\n"
          ]
        }
      ]
    },
    {
      "cell_type": "markdown",
      "metadata": {
        "id": "8120c9f5"
      },
      "source": [
        "## Identify distinct words\n",
        "\n",
        "### Subtask:\n",
        "Write a method to find all unique words (word types) in the preprocessed corpus.\n"
      ]
    },
    {
      "cell_type": "code",
      "metadata": {
        "colab": {
          "base_uri": "https://localhost:8080/"
        },
        "id": "9bf36a5b",
        "outputId": "77c38839-7f9c-4d56-fede-a930b1b1e787"
      },
      "source": [
        "def find_distinct_words(corpus):\n",
        "  \"\"\"Finds the distinct words (word types) in a corpus.\n",
        "\n",
        "  Args:\n",
        "    corpus: A list of words (the preprocessed corpus).\n",
        "\n",
        "  Returns:\n",
        "    A list of distinct words.\n",
        "  \"\"\"\n",
        "  distinct_words_set = set(corpus)\n",
        "  distinct_words_list = list(distinct_words_set)\n",
        "  return distinct_words_list\n",
        "\n",
        "distinct_words = find_distinct_words(preprocessed_corpus)\n",
        "\n",
        "print(\"First 20 distinct words:\", distinct_words[:20])\n",
        "print(\"Total number of distinct words:\", len(distinct_words))"
      ],
      "execution_count": 4,
      "outputs": [
        {
          "output_type": "stream",
          "name": "stdout",
          "text": [
            "First 20 distinct words: ['trash', 'injuries', 'entertained', 'bills', 'overtures', 'deserted', 'imagining', 'poured', 'news', 'unguarded', 'afford', 'earth', 'appearing', 'placing', 'streets', 'bowing', 'leaving', 'describe', 'dalrymple', 'varnished']\n",
            "Total number of distinct words: 5785\n"
          ]
        }
      ]
    },
    {
      "cell_type": "markdown",
      "metadata": {
        "id": "870dfbe6"
      },
      "source": [
        "## Construct co-occurrence matrix\n",
        "\n",
        "### Subtask:\n",
        "Write a method to build a co-occurrence matrix based on a specified window size, counting how often words appear together within that window.\n"
      ]
    },
    {
      "cell_type": "code",
      "metadata": {
        "colab": {
          "base_uri": "https://localhost:8080/"
        },
        "id": "bc3aaa68",
        "outputId": "27e9b116-4302-4e57-bd43-473cd20c0764"
      },
      "source": [
        "import numpy as np\n",
        "\n",
        "def construct_co_occurrence_matrix(preprocessed_corpus, distinct_words, window_size=4):\n",
        "    \"\"\"Constructs a co-occurrence matrix for a given window size.\n",
        "\n",
        "    Args:\n",
        "        preprocessed_corpus: A list of words (the preprocessed corpus).\n",
        "        distinct_words: A list of distinct words from the corpus.\n",
        "        window_size: The size of the window (n words before and after).\n",
        "\n",
        "    Returns:\n",
        "        A tuple containing the co-occurrence matrix (NumPy array) and\n",
        "        a dictionary mapping words to their matrix indices.\n",
        "    \"\"\"\n",
        "    word_to_index = {word: i for i, word in enumerate(distinct_words)}\n",
        "    matrix_size = len(distinct_words)\n",
        "    co_occurrence_matrix = np.zeros((matrix_size, matrix_size), dtype=int)\n",
        "\n",
        "    for i, center_word in enumerate(preprocessed_corpus):\n",
        "        if center_word in word_to_index:\n",
        "            center_word_index = word_to_index[center_word]\n",
        "\n",
        "            # Iterate through the window before the center word\n",
        "            for j in range(max(0, i - window_size), i):\n",
        "                context_word = preprocessed_corpus[j]\n",
        "                if context_word in word_to_index:\n",
        "                    context_word_index = word_to_index[context_word]\n",
        "                    co_occurrence_matrix[center_word_index, context_word_index] += 1\n",
        "\n",
        "            # Iterate through the window after the center word\n",
        "            for j in range(i + 1, min(len(preprocessed_corpus), i + window_size + 1)):\n",
        "                context_word = preprocessed_corpus[j]\n",
        "                if context_word in word_to_index:\n",
        "                    context_word_index = word_to_index[context_word]\n",
        "                    co_occurrence_matrix[center_word_index, context_word_index] += 1\n",
        "\n",
        "    return co_occurrence_matrix, word_to_index\n",
        "\n",
        "# Construct the co-occurrence matrix using the default window size\n",
        "co_occurrence_matrix, word_to_index = construct_co_occurrence_matrix(preprocessed_corpus, distinct_words)\n",
        "\n",
        "print(\"Shape of the co-occurrence matrix:\", co_occurrence_matrix.shape)\n",
        "# Print a small part of the matrix to verify\n",
        "print(\"Sample of the co-occurrence matrix (first 5x5):\\n\", co_occurrence_matrix[:5, :5])\n",
        "# Print a sample of the word-to-index mapping\n",
        "print(\"Sample of the word-to-index mapping (first 5 entries):\\n\", list(word_to_index.items())[:5])"
      ],
      "execution_count": 5,
      "outputs": [
        {
          "output_type": "stream",
          "name": "stdout",
          "text": [
            "Shape of the co-occurrence matrix: (5785, 5785)\n",
            "Sample of the co-occurrence matrix (first 5x5):\n",
            " [[0 0 0 0 0]\n",
            " [0 0 0 0 0]\n",
            " [0 0 0 0 0]\n",
            " [0 0 0 0 0]\n",
            " [0 0 0 0 0]]\n",
            "Sample of the word-to-index mapping (first 5 entries):\n",
            " [('trash', 0), ('injuries', 1), ('entertained', 2), ('bills', 3), ('overtures', 4)]\n"
          ]
        }
      ]
    },
    {
      "cell_type": "markdown",
      "metadata": {
        "id": "7c5dd5b5"
      },
      "source": [
        "## Perform dimensionality reduction\n",
        "\n",
        "### Subtask:\n",
        "Implement a method to reduce the dimensionality of the co-occurrence matrix using techniques like PCA or SVD to produce k-dimensional embeddings.\n"
      ]
    },
    {
      "cell_type": "code",
      "metadata": {
        "colab": {
          "base_uri": "https://localhost:8080/"
        },
        "id": "5982f3f9",
        "outputId": "7bf83e48-9bfa-4db3-c88d-1d953bb854c0"
      },
      "source": [
        "from sklearn.decomposition import TruncatedSVD\n",
        "\n",
        "# Choose the desired embedding dimension\n",
        "k = 50\n",
        "\n",
        "# Instantiate TruncatedSVD\n",
        "svd = TruncatedSVD(n_components=k, random_state=42)\n",
        "\n",
        "# Fit the model and transform the co-occurrence matrix\n",
        "word_embeddings = svd.fit_transform(co_occurrence_matrix)\n",
        "\n",
        "print(\"Shape of the word embeddings:\", word_embeddings.shape)\n",
        "print(\"Sample of the word embeddings (first 5 rows, first 5 columns):\\n\", word_embeddings[:5, :5])"
      ],
      "execution_count": 6,
      "outputs": [
        {
          "output_type": "stream",
          "name": "stdout",
          "text": [
            "Shape of the word embeddings: (5785, 50)\n",
            "Sample of the word embeddings (first 5 rows, first 5 columns):\n",
            " [[ 1.27552109e-01  2.33213689e-03 -1.46779909e-01  4.61252274e-04\n",
            "  -4.02489436e-03]\n",
            " [ 4.49139010e-02  1.09697791e-03 -4.31065632e-02 -3.21916000e-02\n",
            "   3.90792940e-03]\n",
            " [ 4.07449351e-01  1.44221601e-02 -6.10003887e-01 -4.49045038e-01\n",
            "  -8.76311203e-02]\n",
            " [ 1.14312204e-01  7.04679608e-03 -2.10210754e-01 -2.63377050e-01\n",
            "   1.86009665e-01]\n",
            " [ 1.20371945e-01  7.74991680e-03 -1.51233398e-01 -1.26502233e-01\n",
            "   1.12755503e-02]]\n"
          ]
        }
      ]
    },
    {
      "cell_type": "markdown",
      "metadata": {
        "id": "8acf45e7"
      },
      "source": [
        "## Plot co-occurrence word embeddings\n",
        "\n",
        "### Subtask:\n",
        "Write a function to visualize the 2D word embeddings in a 2D space.\n"
      ]
    },
    {
      "cell_type": "code",
      "metadata": {
        "colab": {
          "base_uri": "https://localhost:8080/",
          "height": 872
        },
        "id": "84a23d35",
        "outputId": "abdc520f-174e-4ff8-a497-817ec0398038"
      },
      "source": [
        "import matplotlib.pyplot as plt\n",
        "import numpy as np\n",
        "import random\n",
        "\n",
        "def plot_word_embeddings(word_embeddings, word_to_index, words_to_plot=None):\n",
        "    \"\"\"\n",
        "    Plots 2D word embeddings.\n",
        "\n",
        "    Args:\n",
        "        word_embeddings: A NumPy array of 2D word embeddings.\n",
        "        word_to_index: A dictionary mapping words to their index in the embeddings array.\n",
        "        words_to_plot: An optional list of words to plot. If None, a subset is plotted.\n",
        "    \"\"\"\n",
        "    if word_embeddings.shape[1] != 2:\n",
        "        print(\"Error: Embeddings are not 2-dimensional.\")\n",
        "        return\n",
        "\n",
        "    index_to_word = {i: word for word, i in word_to_index.items()}\n",
        "\n",
        "    if words_to_plot:\n",
        "        indices_to_plot = [word_to_index[word] for word in words_to_plot if word in word_to_index]\n",
        "        embeddings_to_plot = word_embeddings[indices_to_plot, :]\n",
        "        words_to_display = [index_to_word[i] for i in indices_to_plot]\n",
        "    else:\n",
        "        # Select a random subset of words to plot\n",
        "        num_words_to_plot = min(100, word_embeddings.shape[0]) # Plot max 100 words or all if less\n",
        "        all_indices = list(range(word_embeddings.shape[0]))\n",
        "        indices_to_plot = random.sample(all_indices, num_words_to_plot)\n",
        "        embeddings_to_plot = word_embeddings[indices_to_plot, :]\n",
        "        words_to_display = [index_to_word[i] for i in indices_to_plot]\n",
        "\n",
        "    plt.figure(figsize=(10, 10))\n",
        "    plt.scatter(embeddings_to_plot[:, 0], embeddings_to_plot[:, 1])\n",
        "\n",
        "    for i, word in enumerate(words_to_display):\n",
        "        plt.annotate(word, (embeddings_to_plot[i, 0], embeddings_to_plot[i, 1]), textcoords=\"offset points\", xytext=(5, 5), ha='center')\n",
        "\n",
        "    plt.xlabel(\"Dimension 1\")\n",
        "    plt.ylabel(\"Dimension 2\")\n",
        "    plt.title(\"2D Word Embeddings\")\n",
        "    plt.grid(True)\n",
        "    plt.show()\n",
        "\n",
        "# Example usage (assuming word_embeddings and word_to_index are available from previous steps)\n",
        "# Ensure word_embeddings are 2D for plotting\n",
        "if word_embeddings.shape[1] > 2:\n",
        "    # If embeddings are higher than 2D, reduce to 2D for plotting\n",
        "    svd_2d = TruncatedSVD(n_components=2, random_state=42)\n",
        "    word_embeddings_2d = svd_2d.fit_transform(word_embeddings)\n",
        "    plot_word_embeddings(word_embeddings_2d, word_to_index)\n",
        "elif word_embeddings.shape[1] == 2:\n",
        "     plot_word_embeddings(word_embeddings, word_to_index)\n",
        "else:\n",
        "    print(\"Embeddings have less than 2 dimensions, cannot plot.\")\n"
      ],
      "execution_count": 7,
      "outputs": [
        {
          "output_type": "display_data",
          "data": {
            "text/plain": [
              "<Figure size 1000x1000 with 1 Axes>"
            ],
            "image/png": "[encoded data removed]"
          },
          "metadata": {}
        }
      ]
    },
    {
      "cell_type": "markdown",
      "metadata": {
        "id": "9a4d0834"
      },
      "source": [
        "## Summary:\n",
        "\n",
        "### Data Analysis Key Findings\n",
        "\n",
        "*   The corpus dataset was successfully preprocessed by tokenizing, lowercasing, removing punctuation, and removing stop words.\n",
        "*   The total number of distinct words found in the preprocessed corpus is 5785.\n",
        "*   A co-occurrence matrix was constructed with a shape of (5785, 5785) based on a specified window size, capturing word relationships.\n",
        "*   Dimensionality reduction was successfully performed on the co-occurrence matrix using TruncatedSVD, resulting in word embeddings with a shape of (5785, 50).\n",
        "*   A function was implemented to plot 2D word embeddings, and a sample of the embeddings was successfully visualized.\n",
        "\n"
      ]
    }
  ]
}